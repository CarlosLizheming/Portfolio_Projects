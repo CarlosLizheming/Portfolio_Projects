{
 "cells": [
  {
   "cell_type": "markdown",
   "metadata": {},
   "source": [
    "## To identify the Terrorist Organization based on the Terrorism Incident Info."
   ]
  },
  {
   "cell_type": "code",
   "execution_count": 3,
   "metadata": {},
   "outputs": [],
   "source": [
    "import numpy as np\n",
    "import pandas as pd\n",
    "import matplotlib.pyplot as plt\n",
    "import seaborn as sns\n",
    "from sklearn.model_selection import train_test_split,GridSearchCV\n",
    "from sklearn.svm import LinearSVC\n",
    "from sklearn.svm import SVC\n",
    "\n",
    "from sklearn.metrics import classification_report, confusion_matrix, \\\n",
    "                            precision_score, recall_score\n",
    "SEED = 42\n",
    "np.random.seed(SEED)\n",
    "import time"
   ]
  },
  {
   "cell_type": "markdown",
   "metadata": {},
   "source": [
    "### Loading the Data\n",
    "Loading Global Terrorism Dataset from CSV file"
   ]
  },
  {
   "cell_type": "code",
   "execution_count": 4,
   "metadata": {},
   "outputs": [],
   "source": [
    "# Load the dataset\n",
    "df_bl = pd.read_csv(\"baseline_data.csv\")"
   ]
  },
  {
   "cell_type": "markdown",
   "metadata": {},
   "source": [
    "### Step 1: Data Preparation"
   ]
  },
  {
   "cell_type": "markdown",
   "metadata": {},
   "source": [
    "#### Pick relevant features"
   ]
  },
  {
   "cell_type": "code",
   "execution_count": 5,
   "metadata": {},
   "outputs": [],
   "source": [
    "#pick features for Baseline Model\n",
    "baseline_features = ['latitude','longitude','success','suicide','attacktype1','targtype1','claimed','nkill','nkillus','nkillter','nwound','nwoundus','ishostkid']"
   ]
  },
  {
   "cell_type": "code",
   "execution_count": 6,
   "metadata": {},
   "outputs": [
    {
     "name": "stdout",
     "output_type": "stream",
     "text": [
      "<class 'pandas.core.frame.DataFrame'>\n",
      "RangeIndex: 12295 entries, 0 to 12294\n",
      "Data columns (total 13 columns):\n",
      " #   Column       Non-Null Count  Dtype  \n",
      "---  ------       --------------  -----  \n",
      " 0   latitude     12295 non-null  float64\n",
      " 1   longitude    12295 non-null  float64\n",
      " 2   success      12295 non-null  int64  \n",
      " 3   suicide      12295 non-null  int64  \n",
      " 4   attacktype1  12295 non-null  int64  \n",
      " 5   targtype1    12295 non-null  int64  \n",
      " 6   claimed      12295 non-null  int64  \n",
      " 7   nkill        12295 non-null  int64  \n",
      " 8   nkillus      12295 non-null  int64  \n",
      " 9   nkillter     12295 non-null  int64  \n",
      " 10  nwound       12295 non-null  int64  \n",
      " 11  nwoundus     12295 non-null  int64  \n",
      " 12  ishostkid    12295 non-null  int64  \n",
      "dtypes: float64(2), int64(11)\n",
      "memory usage: 1.2 MB\n"
     ]
    }
   ],
   "source": [
    "df_bl[baseline_features].info()"
   ]
  },
  {
   "cell_type": "markdown",
   "metadata": {},
   "source": [
    "#### Map Labels"
   ]
  },
  {
   "cell_type": "code",
   "execution_count": 7,
   "metadata": {},
   "outputs": [],
   "source": [
    "# Update gname(Terrorist Organization) column to numerical\n",
    "df_bl['gname'] = df_bl['gname'].map({'Islamic State of Iraq and the Levant (ISIL)':0,'Taliban':1,'Taliban (Pakistan)':1,'Boko Haram':2,'Al-Qaida':3,'Al-Qaida in Iraq':3,'Al-Qaida in Saudi Arabia':3,'Al-Qaida in the Arabian Peninsula (AQAP)':3,'Al-Qaida in the Islamic Maghreb (AQIM)':3,'Al-Qaida in Yemen':3,'Al-Qaida Kurdish Battalions (AQKB)':3,'Al-Shabaab':4,'Tehrik-i-Taliban Pakistan (TTP)':5,'Al-Nusrah Front':6,'Fulani extremists':7,'Houthi extremists (Ansar Allah)':8,'Liberation Tigers of Tamil Eelam (LTTE)':9, 'Sympathizers of Al-Qaida Organization':3,'Islambouli Brigades of al-Qaida':3, 'Al-Qaida Organization for Jihad in Sweden':3,'Jadid Al-Qaida Bangladesh (JAQB)':3,'':0})"
   ]
  },
  {
   "cell_type": "markdown",
   "metadata": {},
   "source": [
    "#### Check NA"
   ]
  },
  {
   "cell_type": "code",
   "execution_count": 8,
   "metadata": {},
   "outputs": [
    {
     "name": "stdout",
     "output_type": "stream",
     "text": [
      "False\n"
     ]
    },
    {
     "data": {
      "text/plain": [
       "latitude       False\n",
       "longitude      False\n",
       "success        False\n",
       "suicide        False\n",
       "attacktype1    False\n",
       "targtype1      False\n",
       "claimed        False\n",
       "nkill          False\n",
       "nkillus        False\n",
       "nkillter       False\n",
       "nwound         False\n",
       "nwoundus       False\n",
       "ishostkid      False\n",
       "dtype: bool"
      ]
     },
     "execution_count": 8,
     "metadata": {},
     "output_type": "execute_result"
    }
   ],
   "source": [
    "#check for null cells\n",
    "print(df_bl[baseline_features].isna().any().any())\n",
    "df_bl[baseline_features].isna().any()"
   ]
  },
  {
   "cell_type": "markdown",
   "metadata": {},
   "source": [
    "#### One-Hot Encoding for feature attacktype1,targtype1"
   ]
  },
  {
   "cell_type": "code",
   "execution_count": 9,
   "metadata": {},
   "outputs": [],
   "source": [
    "df_bl_one_hot = df_bl[baseline_features]"
   ]
  },
  {
   "cell_type": "code",
   "execution_count": 10,
   "metadata": {},
   "outputs": [],
   "source": [
    "#one hot encoding for feature attacktype1,targtype1\n",
    "df_bl_one_hot = pd.get_dummies(df_bl_one_hot, columns = ['attacktype1','targtype1'])"
   ]
  },
  {
   "cell_type": "code",
   "execution_count": 11,
   "metadata": {},
   "outputs": [
    {
     "name": "stdout",
     "output_type": "stream",
     "text": [
      "<class 'pandas.core.frame.DataFrame'>\n",
      "RangeIndex: 12295 entries, 0 to 12294\n",
      "Data columns (total 40 columns):\n",
      " #   Column         Non-Null Count  Dtype  \n",
      "---  ------         --------------  -----  \n",
      " 0   latitude       12295 non-null  float64\n",
      " 1   longitude      12295 non-null  float64\n",
      " 2   success        12295 non-null  int64  \n",
      " 3   suicide        12295 non-null  int64  \n",
      " 4   claimed        12295 non-null  int64  \n",
      " 5   nkill          12295 non-null  int64  \n",
      " 6   nkillus        12295 non-null  int64  \n",
      " 7   nkillter       12295 non-null  int64  \n",
      " 8   nwound         12295 non-null  int64  \n",
      " 9   nwoundus       12295 non-null  int64  \n",
      " 10  ishostkid      12295 non-null  int64  \n",
      " 11  attacktype1_1  12295 non-null  uint8  \n",
      " 12  attacktype1_2  12295 non-null  uint8  \n",
      " 13  attacktype1_3  12295 non-null  uint8  \n",
      " 14  attacktype1_4  12295 non-null  uint8  \n",
      " 15  attacktype1_5  12295 non-null  uint8  \n",
      " 16  attacktype1_6  12295 non-null  uint8  \n",
      " 17  attacktype1_7  12295 non-null  uint8  \n",
      " 18  attacktype1_8  12295 non-null  uint8  \n",
      " 19  attacktype1_9  12295 non-null  uint8  \n",
      " 20  targtype1_1    12295 non-null  uint8  \n",
      " 21  targtype1_2    12295 non-null  uint8  \n",
      " 22  targtype1_3    12295 non-null  uint8  \n",
      " 23  targtype1_4    12295 non-null  uint8  \n",
      " 24  targtype1_6    12295 non-null  uint8  \n",
      " 25  targtype1_7    12295 non-null  uint8  \n",
      " 26  targtype1_8    12295 non-null  uint8  \n",
      " 27  targtype1_9    12295 non-null  uint8  \n",
      " 28  targtype1_10   12295 non-null  uint8  \n",
      " 29  targtype1_11   12295 non-null  uint8  \n",
      " 30  targtype1_12   12295 non-null  uint8  \n",
      " 31  targtype1_13   12295 non-null  uint8  \n",
      " 32  targtype1_14   12295 non-null  uint8  \n",
      " 33  targtype1_15   12295 non-null  uint8  \n",
      " 34  targtype1_16   12295 non-null  uint8  \n",
      " 35  targtype1_17   12295 non-null  uint8  \n",
      " 36  targtype1_18   12295 non-null  uint8  \n",
      " 37  targtype1_19   12295 non-null  uint8  \n",
      " 38  targtype1_21   12295 non-null  uint8  \n",
      " 39  targtype1_22   12295 non-null  uint8  \n",
      "dtypes: float64(2), int64(9), uint8(29)\n",
      "memory usage: 1.4 MB\n"
     ]
    }
   ],
   "source": [
    "df_bl_one_hot.info()"
   ]
  },
  {
   "cell_type": "markdown",
   "metadata": {},
   "source": [
    "### Step 2: Preparing the data for training and testing\n",
    "\n",
    "1) Divide our independent and dependent variable into two separate variables.\n",
    "\n",
    "2) Split the data into training and testing datasets."
   ]
  },
  {
   "cell_type": "code",
   "execution_count": 12,
   "metadata": {},
   "outputs": [],
   "source": [
    "# 1)\n",
    "\n",
    "X = df_bl_one_hot # input\n",
    "y = df_bl['gname'] # output (dependent variable)"
   ]
  },
  {
   "cell_type": "code",
   "execution_count": 13,
   "metadata": {},
   "outputs": [],
   "source": [
    "# 2) Splitting our data into training and testing sets\n",
    "\n",
    "X_train, X_test, y_train, y_test = train_test_split(X ,y, \n",
    "                                                    test_size = 0.2, \n",
    "                                                    shuffle=True, \n",
    "                                                    stratify=y,\n",
    "                                                    random_state=SEED)\n",
    "# make sure stratify the y values!"
   ]
  },
  {
   "cell_type": "markdown",
   "metadata": {},
   "source": [
    "#### Normalize the Data\n",
    "\n",
    "Since sklearn‘s Logistic Regression implementation uses Regularization, we need to scale our feature data. Create a StandardScaler object, .fit_transform() it on the training features, and .transform() the test features."
   ]
  },
  {
   "cell_type": "code",
   "execution_count": 14,
   "metadata": {},
   "outputs": [],
   "source": [
    "from sklearn.preprocessing import StandardScaler\n",
    "# Scale the feature data so it has mean = 0 and standard deviation = 1\n",
    "scaler = StandardScaler()\n",
    "X_train = scaler.fit_transform(X_train)\n",
    "X_test = scaler.transform(X_test)"
   ]
  },
  {
   "cell_type": "markdown",
   "metadata": {},
   "source": [
    "### Step 3: Training & Fine-tuning the model"
   ]
  },
  {
   "cell_type": "markdown",
   "metadata": {},
   "source": [
    "classifier_01:LinearSVC(max_iter=5000)<br>\n",
    "classifier_011:LinearSVC,Grid Search to fine tune the hyperparameter<br>\n",
    "classifier_02:SVC()<br>\n",
    "classifier_021:SVC(kernel = 'rbf'),Grid Search to fine tune the hyperparameter<br>\n",
    "classifier_03:SVC(kernel = 'poly',degree = 3)<br>\n",
    "classifier_031:SVC(kernel = 'poly'),Grid Search to fine tune the hyperparameter"
   ]
  },
  {
   "cell_type": "code",
   "execution_count": 15,
   "metadata": {},
   "outputs": [
    {
     "name": "stderr",
     "output_type": "stream",
     "text": [
      "C:\\Python\\lib\\site-packages\\sklearn\\svm\\_base.py:976: ConvergenceWarning: Liblinear failed to converge, increase the number of iterations.\n",
      "  warnings.warn(\"Liblinear failed to converge, increase \"\n"
     ]
    },
    {
     "data": {
      "text/plain": [
       "LinearSVC(max_iter=5000)"
      ]
     },
     "execution_count": 15,
     "metadata": {},
     "output_type": "execute_result"
    }
   ],
   "source": [
    "classifier_01 = LinearSVC(max_iter=5000)\n",
    "# Train the model\n",
    "classifier_01.fit(X_train, y_train)"
   ]
  },
  {
   "cell_type": "code",
   "execution_count": 46,
   "metadata": {},
   "outputs": [
    {
     "name": "stdout",
     "output_type": "stream",
     "text": [
      "'{'C': 7.0, 'penalty': 'l2'}' gives the best F1-score at: 67.31%\n"
     ]
    },
    {
     "name": "stderr",
     "output_type": "stream",
     "text": [
      "C:\\Python\\lib\\site-packages\\sklearn\\svm\\_base.py:976: ConvergenceWarning: Liblinear failed to converge, increase the number of iterations.\n",
      "  warnings.warn(\"Liblinear failed to converge, increase \"\n"
     ]
    }
   ],
   "source": [
    "# Hyperparameter tuning using K-fold cross validation\n",
    "# ... via Grid Search method\n",
    "from sklearn.model_selection import GridSearchCV\n",
    "classifier_011 = LinearSVC()\n",
    "param_grid_011 = {'C': np.linspace(1, 10, 10),\n",
    "              'penalty': ['l1', 'l2']}\n",
    "\n",
    "\n",
    "gs_clf_011 = GridSearchCV(classifier_011,\n",
    "                      param_grid_011, \n",
    "                      cv=5,\n",
    "                      scoring='f1_macro',\n",
    "                      n_jobs=-1)\n",
    "gs_clf_011.fit(X_train, y_train)\n",
    "print(\"'{}' gives the best F1-score at: {:.2%}\".format(gs_clf_011.best_params_, gs_clf_011.best_score_))"
   ]
  },
  {
   "cell_type": "code",
   "execution_count": 50,
   "metadata": {},
   "outputs": [
    {
     "name": "stderr",
     "output_type": "stream",
     "text": [
      "C:\\Python\\lib\\site-packages\\sklearn\\svm\\_base.py:976: ConvergenceWarning: Liblinear failed to converge, increase the number of iterations.\n",
      "  warnings.warn(\"Liblinear failed to converge, increase \"\n"
     ]
    },
    {
     "data": {
      "text/plain": [
       "LinearSVC(C=7.0)"
      ]
     },
     "execution_count": 50,
     "metadata": {},
     "output_type": "execute_result"
    }
   ],
   "source": [
    "classifier_011 =  LinearSVC(C=7.0,penalty = 'l2')\n",
    "classifier_011.fit(X_train, y_train)"
   ]
  },
  {
   "cell_type": "code",
   "execution_count": 53,
   "metadata": {},
   "outputs": [
    {
     "data": {
      "text/plain": [
       "SVC()"
      ]
     },
     "execution_count": 53,
     "metadata": {},
     "output_type": "execute_result"
    }
   ],
   "source": [
    "classifier_02 = SVC()\n",
    "classifier_02.fit(X_train, y_train)"
   ]
  },
  {
   "cell_type": "code",
   "execution_count": 67,
   "metadata": {},
   "outputs": [
    {
     "name": "stdout",
     "output_type": "stream",
     "text": [
      "'{'C': 100, 'gamma': 0.1}' gives the best F1-score at: 78.29%\n",
      "Training time: 191.79601979255676s\n"
     ]
    }
   ],
   "source": [
    "# Hyperparameter tuning using K-fold cross validation\n",
    "# ... via Grid Search method\n",
    "start = time.time()\n",
    "classifier_021 = SVC(kernel = 'rbf')\n",
    "param_grid_021 = {'C': np.array([90,100]),\n",
    "              'gamma':np.logspace(-1, 0, 10)}\n",
    "\n",
    "\n",
    "gs_clf_021 = GridSearchCV(classifier_021,\n",
    "                      param_grid_021, \n",
    "                      cv=5,\n",
    "                      scoring='f1_macro',\n",
    "                      n_jobs=-1)\n",
    "gs_clf_021.fit(X_train, y_train)\n",
    "stop = time.time()\n",
    "print(\"'{}' gives the best F1-score at: {:.2%}\".format(gs_clf_021.best_params_, gs_clf_021.best_score_))\n",
    "print(f\"Training time: {stop - start}s\")"
   ]
  },
  {
   "cell_type": "code",
   "execution_count": 44,
   "metadata": {},
   "outputs": [
    {
     "data": {
      "text/plain": [
       "SVC(C=90.0)"
      ]
     },
     "execution_count": 44,
     "metadata": {},
     "output_type": "execute_result"
    }
   ],
   "source": [
    "classifier_021 = SVC(kernel = 'rbf',C=90.0)\n",
    "classifier_021.fit(X_train, y_train)"
   ]
  },
  {
   "cell_type": "code",
   "execution_count": 68,
   "metadata": {},
   "outputs": [
    {
     "data": {
      "text/plain": [
       "SVC(kernel='poly')"
      ]
     },
     "execution_count": 68,
     "metadata": {},
     "output_type": "execute_result"
    }
   ],
   "source": [
    "classifier_03 = SVC(kernel='poly',degree = 3)\n",
    "classifier_03.fit(X_train, y_train)"
   ]
  },
  {
   "cell_type": "code",
   "execution_count": null,
   "metadata": {},
   "outputs": [],
   "source": [
    "# Hyperparameter tuning using K-fold cross validation\n",
    "# ... via Grid Search method\n",
    "from sklearn.model_selection import GridSearchCV\n",
    "start = time.time()\n",
    "classifier_031 = SVC(kernel = 'poly')\n",
    "param_grid_031 = {'degree': np.array([3]),\n",
    "              'C': np.array([1,10]),   \n",
    "              'gamma':np.logspace(-1, 0, 5)}\n",
    "\n",
    "\n",
    "gs_clf_031 = GridSearchCV(classifier_031,\n",
    "                      param_grid_031, \n",
    "                      cv=5,\n",
    "                      scoring='f1_macro',\n",
    "                      n_jobs=-1)\n",
    "gs_clf_031.fit(X_train, y_train)\n",
    "stop = time.time()\n",
    "print(\"'{}' gives the best F1-score at: {:.2%}\".format(gs_clf_031.best_params_, gs_clf_031.best_score_))\n",
    "print(f\"Training time: {stop - start}s\")"
   ]
  },
  {
   "cell_type": "code",
   "execution_count": null,
   "metadata": {},
   "outputs": [],
   "source": [
    "classifier_031 = SVC(kernel = 'poly',C=1.0,degree=3,gamma = 1.0)\n",
    "classifier_031.fit(X_train, y_train)"
   ]
  },
  {
   "cell_type": "markdown",
   "metadata": {},
   "source": [
    "### Step 4: Testing the model"
   ]
  },
  {
   "cell_type": "code",
   "execution_count": 43,
   "metadata": {},
   "outputs": [],
   "source": [
    "# Kept aside some data to test - X_test\n",
    "y_pred_01 = classifier_01.predict(X_test)\n",
    "\n",
    "compare_df_01 = pd.DataFrame({\"Desired Output (Actuals)\": y_test, \n",
    "                           \"Predicted_01 Output\": y_pred_01})"
   ]
  },
  {
   "cell_type": "code",
   "execution_count": 44,
   "metadata": {},
   "outputs": [
    {
     "data": {
      "text/html": [
       "<div>\n",
       "<style scoped>\n",
       "    .dataframe tbody tr th:only-of-type {\n",
       "        vertical-align: middle;\n",
       "    }\n",
       "\n",
       "    .dataframe tbody tr th {\n",
       "        vertical-align: top;\n",
       "    }\n",
       "\n",
       "    .dataframe thead th {\n",
       "        text-align: right;\n",
       "    }\n",
       "</style>\n",
       "<table border=\"1\" class=\"dataframe\">\n",
       "  <thead>\n",
       "    <tr style=\"text-align: right;\">\n",
       "      <th></th>\n",
       "      <th>Desired Output (Actuals)</th>\n",
       "      <th>Predicted_01 Output</th>\n",
       "    </tr>\n",
       "  </thead>\n",
       "  <tbody>\n",
       "    <tr>\n",
       "      <th>6582</th>\n",
       "      <td>0</td>\n",
       "      <td>0</td>\n",
       "    </tr>\n",
       "    <tr>\n",
       "      <th>5906</th>\n",
       "      <td>1</td>\n",
       "      <td>1</td>\n",
       "    </tr>\n",
       "    <tr>\n",
       "      <th>3321</th>\n",
       "      <td>3</td>\n",
       "      <td>2</td>\n",
       "    </tr>\n",
       "    <tr>\n",
       "      <th>1698</th>\n",
       "      <td>1</td>\n",
       "      <td>1</td>\n",
       "    </tr>\n",
       "    <tr>\n",
       "      <th>11913</th>\n",
       "      <td>0</td>\n",
       "      <td>0</td>\n",
       "    </tr>\n",
       "    <tr>\n",
       "      <th>220</th>\n",
       "      <td>1</td>\n",
       "      <td>5</td>\n",
       "    </tr>\n",
       "    <tr>\n",
       "      <th>11190</th>\n",
       "      <td>0</td>\n",
       "      <td>0</td>\n",
       "    </tr>\n",
       "    <tr>\n",
       "      <th>786</th>\n",
       "      <td>5</td>\n",
       "      <td>1</td>\n",
       "    </tr>\n",
       "    <tr>\n",
       "      <th>3601</th>\n",
       "      <td>1</td>\n",
       "      <td>1</td>\n",
       "    </tr>\n",
       "    <tr>\n",
       "      <th>10789</th>\n",
       "      <td>1</td>\n",
       "      <td>1</td>\n",
       "    </tr>\n",
       "    <tr>\n",
       "      <th>11547</th>\n",
       "      <td>1</td>\n",
       "      <td>1</td>\n",
       "    </tr>\n",
       "    <tr>\n",
       "      <th>7482</th>\n",
       "      <td>0</td>\n",
       "      <td>0</td>\n",
       "    </tr>\n",
       "    <tr>\n",
       "      <th>5885</th>\n",
       "      <td>1</td>\n",
       "      <td>1</td>\n",
       "    </tr>\n",
       "    <tr>\n",
       "      <th>3147</th>\n",
       "      <td>4</td>\n",
       "      <td>4</td>\n",
       "    </tr>\n",
       "    <tr>\n",
       "      <th>3666</th>\n",
       "      <td>4</td>\n",
       "      <td>4</td>\n",
       "    </tr>\n",
       "    <tr>\n",
       "      <th>12026</th>\n",
       "      <td>1</td>\n",
       "      <td>1</td>\n",
       "    </tr>\n",
       "    <tr>\n",
       "      <th>6086</th>\n",
       "      <td>0</td>\n",
       "      <td>0</td>\n",
       "    </tr>\n",
       "    <tr>\n",
       "      <th>9217</th>\n",
       "      <td>0</td>\n",
       "      <td>0</td>\n",
       "    </tr>\n",
       "    <tr>\n",
       "      <th>10345</th>\n",
       "      <td>0</td>\n",
       "      <td>0</td>\n",
       "    </tr>\n",
       "    <tr>\n",
       "      <th>10033</th>\n",
       "      <td>8</td>\n",
       "      <td>8</td>\n",
       "    </tr>\n",
       "  </tbody>\n",
       "</table>\n",
       "</div>"
      ],
      "text/plain": [
       "       Desired Output (Actuals)  Predicted_01 Output\n",
       "6582                          0                    0\n",
       "5906                          1                    1\n",
       "3321                          3                    2\n",
       "1698                          1                    1\n",
       "11913                         0                    0\n",
       "220                           1                    5\n",
       "11190                         0                    0\n",
       "786                           5                    1\n",
       "3601                          1                    1\n",
       "10789                         1                    1\n",
       "11547                         1                    1\n",
       "7482                          0                    0\n",
       "5885                          1                    1\n",
       "3147                          4                    4\n",
       "3666                          4                    4\n",
       "12026                         1                    1\n",
       "6086                          0                    0\n",
       "9217                          0                    0\n",
       "10345                         0                    0\n",
       "10033                         8                    8"
      ]
     },
     "execution_count": 44,
     "metadata": {},
     "output_type": "execute_result"
    }
   ],
   "source": [
    "compare_df_01.sample(20)"
   ]
  },
  {
   "cell_type": "code",
   "execution_count": 51,
   "metadata": {},
   "outputs": [],
   "source": [
    "# Kept aside some data to test - X_test\n",
    "y_pred_011 = classifier_011.predict(X_test)\n",
    "\n",
    "compare_df_011 = pd.DataFrame({\"Desired Output (Actuals)\": y_test, \n",
    "                           \"Predicted_01 Output\": y_pred_011})"
   ]
  },
  {
   "cell_type": "code",
   "execution_count": null,
   "metadata": {},
   "outputs": [],
   "source": [
    "compare_df_011.sample(20)"
   ]
  },
  {
   "cell_type": "code",
   "execution_count": 54,
   "metadata": {},
   "outputs": [],
   "source": [
    "# Kept aside some data to test - X_test\n",
    "y_pred_02 = classifier_02.predict(X_test)\n",
    "\n",
    "compare_df_02 = pd.DataFrame({\"Desired Output (Actuals)\": y_test, \n",
    "                           \"Predicted_01 Output\": y_pred_02})"
   ]
  },
  {
   "cell_type": "code",
   "execution_count": 55,
   "metadata": {
    "scrolled": false
   },
   "outputs": [
    {
     "data": {
      "text/html": [
       "<div>\n",
       "<style scoped>\n",
       "    .dataframe tbody tr th:only-of-type {\n",
       "        vertical-align: middle;\n",
       "    }\n",
       "\n",
       "    .dataframe tbody tr th {\n",
       "        vertical-align: top;\n",
       "    }\n",
       "\n",
       "    .dataframe thead th {\n",
       "        text-align: right;\n",
       "    }\n",
       "</style>\n",
       "<table border=\"1\" class=\"dataframe\">\n",
       "  <thead>\n",
       "    <tr style=\"text-align: right;\">\n",
       "      <th></th>\n",
       "      <th>Desired Output (Actuals)</th>\n",
       "      <th>Predicted_01 Output</th>\n",
       "    </tr>\n",
       "  </thead>\n",
       "  <tbody>\n",
       "    <tr>\n",
       "      <th>5441</th>\n",
       "      <td>0</td>\n",
       "      <td>0</td>\n",
       "    </tr>\n",
       "    <tr>\n",
       "      <th>1478</th>\n",
       "      <td>1</td>\n",
       "      <td>1</td>\n",
       "    </tr>\n",
       "    <tr>\n",
       "      <th>10592</th>\n",
       "      <td>0</td>\n",
       "      <td>0</td>\n",
       "    </tr>\n",
       "    <tr>\n",
       "      <th>6270</th>\n",
       "      <td>8</td>\n",
       "      <td>8</td>\n",
       "    </tr>\n",
       "    <tr>\n",
       "      <th>11515</th>\n",
       "      <td>0</td>\n",
       "      <td>0</td>\n",
       "    </tr>\n",
       "    <tr>\n",
       "      <th>3102</th>\n",
       "      <td>3</td>\n",
       "      <td>3</td>\n",
       "    </tr>\n",
       "    <tr>\n",
       "      <th>3601</th>\n",
       "      <td>1</td>\n",
       "      <td>1</td>\n",
       "    </tr>\n",
       "    <tr>\n",
       "      <th>9242</th>\n",
       "      <td>0</td>\n",
       "      <td>0</td>\n",
       "    </tr>\n",
       "    <tr>\n",
       "      <th>11386</th>\n",
       "      <td>2</td>\n",
       "      <td>2</td>\n",
       "    </tr>\n",
       "    <tr>\n",
       "      <th>6012</th>\n",
       "      <td>0</td>\n",
       "      <td>0</td>\n",
       "    </tr>\n",
       "    <tr>\n",
       "      <th>2142</th>\n",
       "      <td>1</td>\n",
       "      <td>1</td>\n",
       "    </tr>\n",
       "    <tr>\n",
       "      <th>1827</th>\n",
       "      <td>4</td>\n",
       "      <td>4</td>\n",
       "    </tr>\n",
       "    <tr>\n",
       "      <th>7187</th>\n",
       "      <td>1</td>\n",
       "      <td>1</td>\n",
       "    </tr>\n",
       "    <tr>\n",
       "      <th>8964</th>\n",
       "      <td>0</td>\n",
       "      <td>0</td>\n",
       "    </tr>\n",
       "    <tr>\n",
       "      <th>4897</th>\n",
       "      <td>2</td>\n",
       "      <td>1</td>\n",
       "    </tr>\n",
       "    <tr>\n",
       "      <th>486</th>\n",
       "      <td>1</td>\n",
       "      <td>1</td>\n",
       "    </tr>\n",
       "    <tr>\n",
       "      <th>3847</th>\n",
       "      <td>0</td>\n",
       "      <td>0</td>\n",
       "    </tr>\n",
       "    <tr>\n",
       "      <th>11610</th>\n",
       "      <td>0</td>\n",
       "      <td>0</td>\n",
       "    </tr>\n",
       "    <tr>\n",
       "      <th>11105</th>\n",
       "      <td>1</td>\n",
       "      <td>1</td>\n",
       "    </tr>\n",
       "    <tr>\n",
       "      <th>12016</th>\n",
       "      <td>0</td>\n",
       "      <td>0</td>\n",
       "    </tr>\n",
       "  </tbody>\n",
       "</table>\n",
       "</div>"
      ],
      "text/plain": [
       "       Desired Output (Actuals)  Predicted_01 Output\n",
       "5441                          0                    0\n",
       "1478                          1                    1\n",
       "10592                         0                    0\n",
       "6270                          8                    8\n",
       "11515                         0                    0\n",
       "3102                          3                    3\n",
       "3601                          1                    1\n",
       "9242                          0                    0\n",
       "11386                         2                    2\n",
       "6012                          0                    0\n",
       "2142                          1                    1\n",
       "1827                          4                    4\n",
       "7187                          1                    1\n",
       "8964                          0                    0\n",
       "4897                          2                    1\n",
       "486                           1                    1\n",
       "3847                          0                    0\n",
       "11610                         0                    0\n",
       "11105                         1                    1\n",
       "12016                         0                    0"
      ]
     },
     "execution_count": 55,
     "metadata": {},
     "output_type": "execute_result"
    }
   ],
   "source": [
    "compare_df_02.sample(20)"
   ]
  },
  {
   "cell_type": "code",
   "execution_count": 45,
   "metadata": {},
   "outputs": [],
   "source": [
    "# Kept aside some data to test - X_test\n",
    "y_pred_021 = classifier_021.predict(X_test)\n",
    "\n",
    "compare_df_021 = pd.DataFrame({\"Desired Output (Actuals)\": y_test, \n",
    "                           \"Predicted_01 Output\": y_pred_021})"
   ]
  },
  {
   "cell_type": "code",
   "execution_count": 46,
   "metadata": {},
   "outputs": [
    {
     "data": {
      "text/html": [
       "<div>\n",
       "<style scoped>\n",
       "    .dataframe tbody tr th:only-of-type {\n",
       "        vertical-align: middle;\n",
       "    }\n",
       "\n",
       "    .dataframe tbody tr th {\n",
       "        vertical-align: top;\n",
       "    }\n",
       "\n",
       "    .dataframe thead th {\n",
       "        text-align: right;\n",
       "    }\n",
       "</style>\n",
       "<table border=\"1\" class=\"dataframe\">\n",
       "  <thead>\n",
       "    <tr style=\"text-align: right;\">\n",
       "      <th></th>\n",
       "      <th>Desired Output (Actuals)</th>\n",
       "      <th>Predicted_01 Output</th>\n",
       "    </tr>\n",
       "  </thead>\n",
       "  <tbody>\n",
       "    <tr>\n",
       "      <th>5441</th>\n",
       "      <td>0</td>\n",
       "      <td>0</td>\n",
       "    </tr>\n",
       "    <tr>\n",
       "      <th>1478</th>\n",
       "      <td>1</td>\n",
       "      <td>1</td>\n",
       "    </tr>\n",
       "    <tr>\n",
       "      <th>10592</th>\n",
       "      <td>0</td>\n",
       "      <td>0</td>\n",
       "    </tr>\n",
       "    <tr>\n",
       "      <th>6270</th>\n",
       "      <td>8</td>\n",
       "      <td>8</td>\n",
       "    </tr>\n",
       "    <tr>\n",
       "      <th>11515</th>\n",
       "      <td>0</td>\n",
       "      <td>0</td>\n",
       "    </tr>\n",
       "    <tr>\n",
       "      <th>3102</th>\n",
       "      <td>3</td>\n",
       "      <td>8</td>\n",
       "    </tr>\n",
       "    <tr>\n",
       "      <th>3601</th>\n",
       "      <td>1</td>\n",
       "      <td>1</td>\n",
       "    </tr>\n",
       "    <tr>\n",
       "      <th>9242</th>\n",
       "      <td>0</td>\n",
       "      <td>0</td>\n",
       "    </tr>\n",
       "    <tr>\n",
       "      <th>11386</th>\n",
       "      <td>2</td>\n",
       "      <td>2</td>\n",
       "    </tr>\n",
       "    <tr>\n",
       "      <th>6012</th>\n",
       "      <td>0</td>\n",
       "      <td>0</td>\n",
       "    </tr>\n",
       "    <tr>\n",
       "      <th>2142</th>\n",
       "      <td>1</td>\n",
       "      <td>1</td>\n",
       "    </tr>\n",
       "    <tr>\n",
       "      <th>1827</th>\n",
       "      <td>4</td>\n",
       "      <td>4</td>\n",
       "    </tr>\n",
       "    <tr>\n",
       "      <th>7187</th>\n",
       "      <td>1</td>\n",
       "      <td>1</td>\n",
       "    </tr>\n",
       "    <tr>\n",
       "      <th>8964</th>\n",
       "      <td>0</td>\n",
       "      <td>0</td>\n",
       "    </tr>\n",
       "    <tr>\n",
       "      <th>4897</th>\n",
       "      <td>2</td>\n",
       "      <td>0</td>\n",
       "    </tr>\n",
       "    <tr>\n",
       "      <th>486</th>\n",
       "      <td>1</td>\n",
       "      <td>1</td>\n",
       "    </tr>\n",
       "    <tr>\n",
       "      <th>3847</th>\n",
       "      <td>0</td>\n",
       "      <td>0</td>\n",
       "    </tr>\n",
       "    <tr>\n",
       "      <th>11610</th>\n",
       "      <td>0</td>\n",
       "      <td>0</td>\n",
       "    </tr>\n",
       "    <tr>\n",
       "      <th>11105</th>\n",
       "      <td>1</td>\n",
       "      <td>1</td>\n",
       "    </tr>\n",
       "    <tr>\n",
       "      <th>12016</th>\n",
       "      <td>0</td>\n",
       "      <td>0</td>\n",
       "    </tr>\n",
       "  </tbody>\n",
       "</table>\n",
       "</div>"
      ],
      "text/plain": [
       "       Desired Output (Actuals)  Predicted_01 Output\n",
       "5441                          0                    0\n",
       "1478                          1                    1\n",
       "10592                         0                    0\n",
       "6270                          8                    8\n",
       "11515                         0                    0\n",
       "3102                          3                    8\n",
       "3601                          1                    1\n",
       "9242                          0                    0\n",
       "11386                         2                    2\n",
       "6012                          0                    0\n",
       "2142                          1                    1\n",
       "1827                          4                    4\n",
       "7187                          1                    1\n",
       "8964                          0                    0\n",
       "4897                          2                    0\n",
       "486                           1                    1\n",
       "3847                          0                    0\n",
       "11610                         0                    0\n",
       "11105                         1                    1\n",
       "12016                         0                    0"
      ]
     },
     "execution_count": 46,
     "metadata": {},
     "output_type": "execute_result"
    }
   ],
   "source": [
    "compare_df_021.sample(20)"
   ]
  },
  {
   "cell_type": "code",
   "execution_count": 69,
   "metadata": {},
   "outputs": [],
   "source": [
    "# Kept aside some data to test - X_test\n",
    "y_pred_03 = classifier_03.predict(X_test)\n",
    "\n",
    "compare_df_03 = pd.DataFrame({\"Desired Output (Actuals)\": y_test, \n",
    "                           \"Predicted_01 Output\": y_pred_03})"
   ]
  },
  {
   "cell_type": "code",
   "execution_count": 70,
   "metadata": {},
   "outputs": [
    {
     "data": {
      "text/html": [
       "<div>\n",
       "<style scoped>\n",
       "    .dataframe tbody tr th:only-of-type {\n",
       "        vertical-align: middle;\n",
       "    }\n",
       "\n",
       "    .dataframe tbody tr th {\n",
       "        vertical-align: top;\n",
       "    }\n",
       "\n",
       "    .dataframe thead th {\n",
       "        text-align: right;\n",
       "    }\n",
       "</style>\n",
       "<table border=\"1\" class=\"dataframe\">\n",
       "  <thead>\n",
       "    <tr style=\"text-align: right;\">\n",
       "      <th></th>\n",
       "      <th>Desired Output (Actuals)</th>\n",
       "      <th>Predicted_01 Output</th>\n",
       "    </tr>\n",
       "  </thead>\n",
       "  <tbody>\n",
       "    <tr>\n",
       "      <th>5441</th>\n",
       "      <td>0</td>\n",
       "      <td>0</td>\n",
       "    </tr>\n",
       "    <tr>\n",
       "      <th>1478</th>\n",
       "      <td>1</td>\n",
       "      <td>1</td>\n",
       "    </tr>\n",
       "    <tr>\n",
       "      <th>10592</th>\n",
       "      <td>0</td>\n",
       "      <td>0</td>\n",
       "    </tr>\n",
       "    <tr>\n",
       "      <th>6270</th>\n",
       "      <td>8</td>\n",
       "      <td>4</td>\n",
       "    </tr>\n",
       "    <tr>\n",
       "      <th>11515</th>\n",
       "      <td>0</td>\n",
       "      <td>0</td>\n",
       "    </tr>\n",
       "    <tr>\n",
       "      <th>3102</th>\n",
       "      <td>3</td>\n",
       "      <td>3</td>\n",
       "    </tr>\n",
       "    <tr>\n",
       "      <th>3601</th>\n",
       "      <td>1</td>\n",
       "      <td>1</td>\n",
       "    </tr>\n",
       "    <tr>\n",
       "      <th>9242</th>\n",
       "      <td>0</td>\n",
       "      <td>0</td>\n",
       "    </tr>\n",
       "    <tr>\n",
       "      <th>11386</th>\n",
       "      <td>2</td>\n",
       "      <td>3</td>\n",
       "    </tr>\n",
       "    <tr>\n",
       "      <th>6012</th>\n",
       "      <td>0</td>\n",
       "      <td>0</td>\n",
       "    </tr>\n",
       "    <tr>\n",
       "      <th>2142</th>\n",
       "      <td>1</td>\n",
       "      <td>1</td>\n",
       "    </tr>\n",
       "    <tr>\n",
       "      <th>1827</th>\n",
       "      <td>4</td>\n",
       "      <td>4</td>\n",
       "    </tr>\n",
       "    <tr>\n",
       "      <th>7187</th>\n",
       "      <td>1</td>\n",
       "      <td>1</td>\n",
       "    </tr>\n",
       "    <tr>\n",
       "      <th>8964</th>\n",
       "      <td>0</td>\n",
       "      <td>0</td>\n",
       "    </tr>\n",
       "    <tr>\n",
       "      <th>4897</th>\n",
       "      <td>2</td>\n",
       "      <td>2</td>\n",
       "    </tr>\n",
       "    <tr>\n",
       "      <th>486</th>\n",
       "      <td>1</td>\n",
       "      <td>1</td>\n",
       "    </tr>\n",
       "    <tr>\n",
       "      <th>3847</th>\n",
       "      <td>0</td>\n",
       "      <td>0</td>\n",
       "    </tr>\n",
       "    <tr>\n",
       "      <th>11610</th>\n",
       "      <td>0</td>\n",
       "      <td>0</td>\n",
       "    </tr>\n",
       "    <tr>\n",
       "      <th>11105</th>\n",
       "      <td>1</td>\n",
       "      <td>0</td>\n",
       "    </tr>\n",
       "    <tr>\n",
       "      <th>12016</th>\n",
       "      <td>0</td>\n",
       "      <td>0</td>\n",
       "    </tr>\n",
       "  </tbody>\n",
       "</table>\n",
       "</div>"
      ],
      "text/plain": [
       "       Desired Output (Actuals)  Predicted_01 Output\n",
       "5441                          0                    0\n",
       "1478                          1                    1\n",
       "10592                         0                    0\n",
       "6270                          8                    4\n",
       "11515                         0                    0\n",
       "3102                          3                    3\n",
       "3601                          1                    1\n",
       "9242                          0                    0\n",
       "11386                         2                    3\n",
       "6012                          0                    0\n",
       "2142                          1                    1\n",
       "1827                          4                    4\n",
       "7187                          1                    1\n",
       "8964                          0                    0\n",
       "4897                          2                    2\n",
       "486                           1                    1\n",
       "3847                          0                    0\n",
       "11610                         0                    0\n",
       "11105                         1                    0\n",
       "12016                         0                    0"
      ]
     },
     "execution_count": 70,
     "metadata": {},
     "output_type": "execute_result"
    }
   ],
   "source": [
    "compare_df_03.sample(20)"
   ]
  },
  {
   "cell_type": "markdown",
   "metadata": {},
   "source": [
    "### Step 5: Evaluate the model"
   ]
  },
  {
   "cell_type": "code",
   "execution_count": 45,
   "metadata": {},
   "outputs": [
    {
     "name": "stdout",
     "output_type": "stream",
     "text": [
      "Classification report:\n",
      "\n",
      "              precision    recall  f1-score   support\n",
      "\n",
      "           0       0.84      0.99      0.90       637\n",
      "           1       0.88      0.99      0.93       880\n",
      "           2       0.88      1.00      0.94       188\n",
      "           3       0.73      0.28      0.40       177\n",
      "           4       0.98      0.97      0.98       236\n",
      "           5       0.67      0.11      0.19       130\n",
      "           6       0.00      0.00      0.00        24\n",
      "           7       1.00      0.66      0.79        41\n",
      "           8       0.82      0.90      0.86       113\n",
      "           9       0.94      0.91      0.92        33\n",
      "\n",
      "    accuracy                           0.87      2459\n",
      "   macro avg       0.77      0.68      0.69      2459\n",
      "weighted avg       0.85      0.87      0.84      2459\n",
      "\n",
      "\n"
     ]
    },
    {
     "name": "stderr",
     "output_type": "stream",
     "text": [
      "C:\\Python\\lib\\site-packages\\sklearn\\metrics\\_classification.py:1221: UndefinedMetricWarning: Precision and F-score are ill-defined and being set to 0.0 in labels with no predicted samples. Use `zero_division` parameter to control this behavior.\n",
      "  _warn_prf(average, modifier, msg_start, len(result))\n"
     ]
    }
   ],
   "source": [
    "# Classification Report\n",
    "print(\"Classification report:\")\n",
    "print()\n",
    "print(classification_report(y_test, y_pred_01))\n",
    "print()"
   ]
  },
  {
   "cell_type": "code",
   "execution_count": 52,
   "metadata": {},
   "outputs": [
    {
     "name": "stdout",
     "output_type": "stream",
     "text": [
      "Classification report:\n",
      "\n",
      "              precision    recall  f1-score   support\n",
      "\n",
      "           0       0.84      0.98      0.90       637\n",
      "           1       0.88      0.99      0.93       880\n",
      "           2       0.86      1.00      0.92       188\n",
      "           3       0.69      0.23      0.34       177\n",
      "           4       0.98      0.97      0.97       236\n",
      "           5       0.48      0.12      0.19       130\n",
      "           6       0.00      0.00      0.00        24\n",
      "           7       1.00      0.68      0.81        41\n",
      "           8       0.76      0.86      0.80       113\n",
      "           9       0.97      0.91      0.94        33\n",
      "\n",
      "    accuracy                           0.86      2459\n",
      "   macro avg       0.75      0.67      0.68      2459\n",
      "weighted avg       0.83      0.86      0.83      2459\n",
      "\n",
      "\n"
     ]
    },
    {
     "name": "stderr",
     "output_type": "stream",
     "text": [
      "C:\\Python\\lib\\site-packages\\sklearn\\metrics\\_classification.py:1221: UndefinedMetricWarning: Precision and F-score are ill-defined and being set to 0.0 in labels with no predicted samples. Use `zero_division` parameter to control this behavior.\n",
      "  _warn_prf(average, modifier, msg_start, len(result))\n"
     ]
    }
   ],
   "source": [
    "# Classification Report\n",
    "print(\"Classification report:\")\n",
    "print()\n",
    "print(classification_report(y_test, y_pred_011))\n",
    "print()"
   ]
  },
  {
   "cell_type": "code",
   "execution_count": 56,
   "metadata": {},
   "outputs": [
    {
     "name": "stdout",
     "output_type": "stream",
     "text": [
      "Classification report:\n",
      "\n",
      "              precision    recall  f1-score   support\n",
      "\n",
      "           0       0.86      0.96      0.91       637\n",
      "           1       0.88      0.99      0.93       880\n",
      "           2       0.84      0.96      0.90       188\n",
      "           3       0.72      0.42      0.53       177\n",
      "           4       0.91      0.95      0.93       236\n",
      "           5       0.60      0.18      0.28       130\n",
      "           6       0.00      0.00      0.00        24\n",
      "           7       1.00      0.29      0.45        41\n",
      "           8       0.81      0.77      0.79       113\n",
      "           9       0.93      0.82      0.87        33\n",
      "\n",
      "    accuracy                           0.86      2459\n",
      "   macro avg       0.76      0.63      0.66      2459\n",
      "weighted avg       0.84      0.86      0.83      2459\n",
      "\n",
      "\n"
     ]
    },
    {
     "name": "stderr",
     "output_type": "stream",
     "text": [
      "C:\\Python\\lib\\site-packages\\sklearn\\metrics\\_classification.py:1221: UndefinedMetricWarning: Precision and F-score are ill-defined and being set to 0.0 in labels with no predicted samples. Use `zero_division` parameter to control this behavior.\n",
      "  _warn_prf(average, modifier, msg_start, len(result))\n"
     ]
    }
   ],
   "source": [
    "# Classification Report\n",
    "print(\"Classification report:\")\n",
    "print()\n",
    "print(classification_report(y_test, y_pred_02))\n",
    "print()"
   ]
  },
  {
   "cell_type": "code",
   "execution_count": 47,
   "metadata": {},
   "outputs": [
    {
     "name": "stdout",
     "output_type": "stream",
     "text": [
      "Classification report:\n",
      "\n",
      "              precision    recall  f1-score   support\n",
      "\n",
      "           0       0.87      0.96      0.91       637\n",
      "           1       0.97      0.99      0.98       880\n",
      "           2       0.97      0.98      0.98       188\n",
      "           3       0.80      0.43      0.56       177\n",
      "           4       0.97      0.97      0.97       236\n",
      "           5       0.88      0.78      0.83       130\n",
      "           6       0.46      0.46      0.46        24\n",
      "           7       0.98      0.98      0.98        41\n",
      "           8       0.81      0.89      0.85       113\n",
      "           9       0.94      0.91      0.92        33\n",
      "\n",
      "    accuracy                           0.92      2459\n",
      "   macro avg       0.86      0.84      0.84      2459\n",
      "weighted avg       0.91      0.92      0.91      2459\n",
      "\n",
      "\n"
     ]
    }
   ],
   "source": [
    "# Classification Report\n",
    "print(\"Classification report:\")\n",
    "print()\n",
    "print(classification_report(y_test, y_pred_021))\n",
    "print()"
   ]
  },
  {
   "cell_type": "code",
   "execution_count": 71,
   "metadata": {},
   "outputs": [
    {
     "name": "stdout",
     "output_type": "stream",
     "text": [
      "Classification report:\n",
      "\n",
      "              precision    recall  f1-score   support\n",
      "\n",
      "           0       0.69      0.98      0.81       637\n",
      "           1       0.87      0.92      0.89       880\n",
      "           2       0.79      0.98      0.88       188\n",
      "           3       0.69      0.26      0.38       177\n",
      "           4       0.88      0.89      0.88       236\n",
      "           5       0.76      0.15      0.25       130\n",
      "           6       0.00      0.00      0.00        24\n",
      "           7       0.50      0.02      0.05        41\n",
      "           8       0.56      0.24      0.34       113\n",
      "           9       0.88      0.42      0.57        33\n",
      "\n",
      "    accuracy                           0.79      2459\n",
      "   macro avg       0.66      0.49      0.50      2459\n",
      "weighted avg       0.77      0.79      0.75      2459\n",
      "\n",
      "\n"
     ]
    },
    {
     "name": "stderr",
     "output_type": "stream",
     "text": [
      "C:\\Python\\lib\\site-packages\\sklearn\\metrics\\_classification.py:1221: UndefinedMetricWarning: Precision and F-score are ill-defined and being set to 0.0 in labels with no predicted samples. Use `zero_division` parameter to control this behavior.\n",
      "  _warn_prf(average, modifier, msg_start, len(result))\n"
     ]
    }
   ],
   "source": [
    "# Classification Report\n",
    "print(\"Classification report:\")\n",
    "print()\n",
    "print(classification_report(y_test, y_pred_03))\n",
    "print()"
   ]
  },
  {
   "cell_type": "code",
   "execution_count": 48,
   "metadata": {},
   "outputs": [
    {
     "name": "stdout",
     "output_type": "stream",
     "text": [
      "Confusion Matrix:\n"
     ]
    },
    {
     "data": {
      "text/plain": [
       "array([[612,   0,   0,  10,   1,   2,  11,   0,   0,   1],\n",
       "       [  3, 867,   0,   0,   0,  10,   0,   0,   0,   0],\n",
       "       [  2,   0, 185,   0,   0,   0,   0,   1,   0,   0],\n",
       "       [ 71,   1,   3,  76,   3,   1,   2,   0,  20,   0],\n",
       "       [  1,   0,   1,   0, 229,   0,   0,   0,   4,   1],\n",
       "       [  0,  26,   0,   1,   1, 102,   0,   0,   0,   0],\n",
       "       [ 12,   0,   0,   1,   0,   0,  11,   0,   0,   0],\n",
       "       [  0,   0,   1,   0,   0,   0,   0,  40,   0,   0],\n",
       "       [  3,   0,   1,   7,   1,   0,   0,   0, 101,   0],\n",
       "       [  0,   0,   0,   0,   2,   1,   0,   0,   0,  30]], dtype=int64)"
      ]
     },
     "execution_count": 48,
     "metadata": {},
     "output_type": "execute_result"
    }
   ],
   "source": [
    "# Confusion Matrix\n",
    "print(\"Confusion Matrix:\")\n",
    "confusion_matrix(y_test, y_pred_021)"
   ]
  },
  {
   "cell_type": "code",
   "execution_count": 49,
   "metadata": {},
   "outputs": [
    {
     "data": {
      "image/png": "[encoded data removed]",
      "text/plain": [
       "<Figure size 648x504 with 2 Axes>"
      ]
     },
     "metadata": {},
     "output_type": "display_data"
    }
   ],
   "source": [
    "# Plot the confusion matrix using Seaborn library\n",
    "plt.figure(figsize=(9,7))\n",
    "_ = sns.heatmap(confusion_matrix(y_test, y_pred_021), \n",
    "                annot=True, annot_kws={\"size\": 18},\n",
    "                cmap=plt.cm.Blues,fmt='g')\n",
    "#                 ),xticklabels=class_names, yticklabels=class_names\n",
    "_ = plt.ylabel('True Label', fontweight='bold')\n",
    "_ = plt.xlabel('Predicted Label', fontweight='bold')"
   ]
  },
  {
   "cell_type": "code",
   "execution_count": null,
   "metadata": {},
   "outputs": [],
   "source": []
  }
 ],
 "metadata": {
  "kernelspec": {
   "display_name": "Python 3",
   "language": "python",
   "name": "python3"
  },
  "language_info": {
   "codemirror_mode": {
    "name": "ipython",
    "version": 3
   },
   "file_extension": ".py",
   "mimetype": "text/x-python",
   "name": "python",
   "nbconvert_exporter": "python",
   "pygments_lexer": "ipython3",
   "version": "3.8.5"
  }
 },
 "nbformat": 4,
 "nbformat_minor": 4
}
