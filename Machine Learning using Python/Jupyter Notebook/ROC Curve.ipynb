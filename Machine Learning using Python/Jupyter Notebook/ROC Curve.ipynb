{
 "cells": [
  {
   "cell_type": "markdown",
   "metadata": {},
   "source": [
    "## Receiver Operating Characteristic (ROC) Curve Between Models"
   ]
  },
  {
   "cell_type": "code",
   "execution_count": 1,
   "metadata": {},
   "outputs": [],
   "source": [
    "# Importing libraries required\n",
    "import numpy as np\n",
    "import pandas as pd\n",
    "import matplotlib.pyplot as plt\n",
    "from itertools import cycle\n",
    "import seaborn as sns\n",
    "from sklearn import linear_model\n",
    "from sklearn.model_selection import train_test_split\n",
    "from sklearn.linear_model import LogisticRegression\n",
    "from sklearn.metrics import roc_curve, auc, roc_auc_score\n",
    "from sklearn.preprocessing import label_binarize\n",
    "from sklearn.multiclass import OneVsRestClassifier\n",
    "from scipy import interp\n",
    "SEED = 42\n",
    "np.random.seed(SEED)"
   ]
  },
  {
   "cell_type": "markdown",
   "metadata": {},
   "source": [
    "### Data Preparation\n",
    "#### Loading the Data"
   ]
  },
  {
   "cell_type": "code",
   "execution_count": 2,
   "metadata": {},
   "outputs": [],
   "source": [
    "# Load the dataset\n",
    "df_bl = pd.read_csv(\"baseline_data.csv\")"
   ]
  },
  {
   "cell_type": "markdown",
   "metadata": {},
   "source": [
    "#### Pick relevant features"
   ]
  },
  {
   "cell_type": "code",
   "execution_count": 3,
   "metadata": {},
   "outputs": [],
   "source": [
    "#pick features for Baseline Model\n",
    "baseline_features = ['latitude','longitude','success','suicide','attacktype1','targtype1','claimed','nkill','nkillus','nkillter','nwound','nwoundus','ishostkid']"
   ]
  },
  {
   "cell_type": "markdown",
   "metadata": {},
   "source": [
    "#### Map Labels"
   ]
  },
  {
   "cell_type": "code",
   "execution_count": 4,
   "metadata": {},
   "outputs": [],
   "source": [
    "# Update gname(Terrorist Organization) column to numerical\n",
    "df_bl['gname'] = df_bl['gname'].map({'Islamic State of Iraq and the Levant (ISIL)':0,'Taliban':1,'Taliban (Pakistan)':1,'Boko Haram':2,'Al-Qaida':3,'Al-Qaida in Iraq':3,'Al-Qaida in Saudi Arabia':3,'Al-Qaida in the Arabian Peninsula (AQAP)':3,'Al-Qaida in the Islamic Maghreb (AQIM)':3,'Al-Qaida in Yemen':3,'Al-Qaida Kurdish Battalions (AQKB)':3,'Al-Shabaab':4,'Tehrik-i-Taliban Pakistan (TTP)':5,'Al-Nusrah Front':6,'Fulani extremists':7,'Houthi extremists (Ansar Allah)':8,'Liberation Tigers of Tamil Eelam (LTTE)':9, 'Sympathizers of Al-Qaida Organization':3,'Islambouli Brigades of al-Qaida':3, 'Al-Qaida Organization for Jihad in Sweden':3,'Jadid Al-Qaida Bangladesh (JAQB)':3,'':0})"
   ]
  },
  {
   "cell_type": "markdown",
   "metadata": {},
   "source": [
    "#### One-Hot Encoding for feature attacktype1,targtype1"
   ]
  },
  {
   "cell_type": "code",
   "execution_count": 5,
   "metadata": {},
   "outputs": [],
   "source": [
    "df_bl_one_hot = df_bl[baseline_features]"
   ]
  },
  {
   "cell_type": "code",
   "execution_count": 6,
   "metadata": {},
   "outputs": [],
   "source": [
    "#one hot encoding for column attacktype1,targtype1\n",
    "df_bl_one_hot = pd.get_dummies(df_bl_one_hot, columns = ['attacktype1','targtype1'])"
   ]
  },
  {
   "cell_type": "code",
   "execution_count": 7,
   "metadata": {},
   "outputs": [
    {
     "name": "stdout",
     "output_type": "stream",
     "text": [
      "<class 'pandas.core.frame.DataFrame'>\n",
      "RangeIndex: 12295 entries, 0 to 12294\n",
      "Data columns (total 40 columns):\n",
      " #   Column         Non-Null Count  Dtype  \n",
      "---  ------         --------------  -----  \n",
      " 0   latitude       12295 non-null  float64\n",
      " 1   longitude      12295 non-null  float64\n",
      " 2   success        12295 non-null  int64  \n",
      " 3   suicide        12295 non-null  int64  \n",
      " 4   claimed        12295 non-null  int64  \n",
      " 5   nkill          12295 non-null  int64  \n",
      " 6   nkillus        12295 non-null  int64  \n",
      " 7   nkillter       12295 non-null  int64  \n",
      " 8   nwound         12295 non-null  int64  \n",
      " 9   nwoundus       12295 non-null  int64  \n",
      " 10  ishostkid      12295 non-null  int64  \n",
      " 11  attacktype1_1  12295 non-null  uint8  \n",
      " 12  attacktype1_2  12295 non-null  uint8  \n",
      " 13  attacktype1_3  12295 non-null  uint8  \n",
      " 14  attacktype1_4  12295 non-null  uint8  \n",
      " 15  attacktype1_5  12295 non-null  uint8  \n",
      " 16  attacktype1_6  12295 non-null  uint8  \n",
      " 17  attacktype1_7  12295 non-null  uint8  \n",
      " 18  attacktype1_8  12295 non-null  uint8  \n",
      " 19  attacktype1_9  12295 non-null  uint8  \n",
      " 20  targtype1_1    12295 non-null  uint8  \n",
      " 21  targtype1_2    12295 non-null  uint8  \n",
      " 22  targtype1_3    12295 non-null  uint8  \n",
      " 23  targtype1_4    12295 non-null  uint8  \n",
      " 24  targtype1_6    12295 non-null  uint8  \n",
      " 25  targtype1_7    12295 non-null  uint8  \n",
      " 26  targtype1_8    12295 non-null  uint8  \n",
      " 27  targtype1_9    12295 non-null  uint8  \n",
      " 28  targtype1_10   12295 non-null  uint8  \n",
      " 29  targtype1_11   12295 non-null  uint8  \n",
      " 30  targtype1_12   12295 non-null  uint8  \n",
      " 31  targtype1_13   12295 non-null  uint8  \n",
      " 32  targtype1_14   12295 non-null  uint8  \n",
      " 33  targtype1_15   12295 non-null  uint8  \n",
      " 34  targtype1_16   12295 non-null  uint8  \n",
      " 35  targtype1_17   12295 non-null  uint8  \n",
      " 36  targtype1_18   12295 non-null  uint8  \n",
      " 37  targtype1_19   12295 non-null  uint8  \n",
      " 38  targtype1_21   12295 non-null  uint8  \n",
      " 39  targtype1_22   12295 non-null  uint8  \n",
      "dtypes: float64(2), int64(9), uint8(29)\n",
      "memory usage: 1.4 MB\n"
     ]
    }
   ],
   "source": [
    "df_bl_one_hot.info()"
   ]
  },
  {
   "cell_type": "markdown",
   "metadata": {},
   "source": [
    "#### Preparing the data for training and testing\n"
   ]
  },
  {
   "cell_type": "code",
   "execution_count": 8,
   "metadata": {},
   "outputs": [],
   "source": [
    "y = label_binarize(df_bl['gname'], classes=[0, 1, 2, 3, 4, 5, 6, 7, 8, 9])\n",
    "n_classes = y.shape[1]"
   ]
  },
  {
   "cell_type": "code",
   "execution_count": 9,
   "metadata": {},
   "outputs": [],
   "source": [
    "X = df_bl_one_hot"
   ]
  },
  {
   "cell_type": "code",
   "execution_count": 10,
   "metadata": {},
   "outputs": [],
   "source": [
    "# 2) Splitting our data into training and testing sets\n",
    "\n",
    "X_train, X_test, y_train, y_test = train_test_split(X ,y, \n",
    "                                                    test_size = 0.2, \n",
    "                                                    shuffle=True, \n",
    "                                                    stratify=y,\n",
    "                                                    random_state=SEED)\n",
    "# make sure stratify the y values!"
   ]
  },
  {
   "cell_type": "code",
   "execution_count": 11,
   "metadata": {},
   "outputs": [],
   "source": [
    "# 2) Splitting our data into training and testing sets\n",
    "\n",
    "X_train_nb, X_test_nb, y_train_nb, y_test_nb = train_test_split(X ,y, \n",
    "                                                    test_size = 0.2, \n",
    "                                                    shuffle=True, \n",
    "                                                    stratify=y,\n",
    "                                                    random_state=SEED)\n",
    "# make sure stratify the y values!"
   ]
  },
  {
   "cell_type": "markdown",
   "metadata": {},
   "source": [
    "#### Normalize the Data\n",
    "\n",
    "Since sklearn‘s Logistic Regression implementation uses Regularization, we need to scale our feature data. Create a StandardScaler object, .fit_transform() it on the training features, and .transform() the test features."
   ]
  },
  {
   "cell_type": "code",
   "execution_count": 12,
   "metadata": {},
   "outputs": [],
   "source": [
    "from sklearn.preprocessing import StandardScaler\n",
    "# Scale the feature data so it has mean = 0 and standard deviation = 1\n",
    "scaler = StandardScaler()\n",
    "X_train = scaler.fit_transform(X_train)\n",
    "X_test = scaler.transform(X_test)"
   ]
  },
  {
   "cell_type": "markdown",
   "metadata": {},
   "source": [
    "#### Use MaxMinScaler to convert the negative values into positive"
   ]
  },
  {
   "cell_type": "code",
   "execution_count": 13,
   "metadata": {},
   "outputs": [],
   "source": [
    "from sklearn.preprocessing import MinMaxScaler\n",
    "# Scale the feature data so it has all positive values\n",
    "scaler = MinMaxScaler()\n",
    "X_train_nb = scaler.fit_transform(X_train_nb)\n",
    "X_test_nb = scaler.transform(X_test_nb)"
   ]
  },
  {
   "cell_type": "markdown",
   "metadata": {},
   "source": [
    "### Training the model using Best Performance Hyperparameter"
   ]
  },
  {
   "cell_type": "markdown",
   "metadata": {},
   "source": [
    "classifier_lg: Logistic Regression<br>\n",
    "classifier_svm: SVM<br>\n",
    "classifier_rf: Random Forest<br>\n",
    "classifier_nb: Naive Bayes"
   ]
  },
  {
   "cell_type": "code",
   "execution_count": 14,
   "metadata": {},
   "outputs": [],
   "source": [
    "classifier_lg = OneVsRestClassifier(LogisticRegression(max_iter=5000))\n",
    "y_score_lg = classifier_lg.fit(X_train, y_train).decision_function(X_test)"
   ]
  },
  {
   "cell_type": "code",
   "execution_count": 15,
   "metadata": {},
   "outputs": [
    {
     "data": {
      "text/plain": [
       "array([ -2.71235497, -19.43090624,   1.43372256,  -1.62641543,\n",
       "        -3.73560075, -12.54049069,  -5.34503807,  -7.39727076,\n",
       "        -0.94416969, -11.78213905])"
      ]
     },
     "execution_count": 15,
     "metadata": {},
     "output_type": "execute_result"
    }
   ],
   "source": [
    "y_score_lg[0]"
   ]
  },
  {
   "cell_type": "code",
   "execution_count": 16,
   "metadata": {},
   "outputs": [],
   "source": [
    "from sklearn.svm import SVC\n",
    "classifier_svm = OneVsRestClassifier(SVC(kernel = 'rbf',C=90.0))\n",
    "y_score_svm = classifier_svm.fit(X_train, y_train).decision_function(X_test)"
   ]
  },
  {
   "cell_type": "code",
   "execution_count": 17,
   "metadata": {
    "scrolled": true
   },
   "outputs": [
    {
     "data": {
      "text/plain": [
       "array([ -9.37673138, -22.3311947 ,   1.77918682,  -4.32589372,\n",
       "        -4.51650051, -10.21506216,  -2.61849798,  -3.32148373,\n",
       "        -1.92839341,  -5.33920038])"
      ]
     },
     "execution_count": 17,
     "metadata": {},
     "output_type": "execute_result"
    }
   ],
   "source": [
    "y_score_svm[0]"
   ]
  },
  {
   "cell_type": "code",
   "execution_count": 18,
   "metadata": {},
   "outputs": [
    {
     "data": {
      "text/plain": [
       "OneVsRestClassifier(estimator=RandomForestClassifier(max_depth=27,\n",
       "                                                     min_samples_split=5,\n",
       "                                                     n_estimators=500))"
      ]
     },
     "execution_count": 18,
     "metadata": {},
     "output_type": "execute_result"
    }
   ],
   "source": [
    "from sklearn.ensemble import RandomForestClassifier\n",
    "classifier_rf = OneVsRestClassifier(RandomForestClassifier(criterion = 'gini', max_depth= 27, min_samples_split=5, n_estimators=500))\n",
    "classifier_rf.fit(X_train, y_train)"
   ]
  },
  {
   "cell_type": "code",
   "execution_count": 19,
   "metadata": {},
   "outputs": [],
   "source": [
    "y_score_rf =classifier_rf.predict_proba(X_test)"
   ]
  },
  {
   "cell_type": "code",
   "execution_count": 20,
   "metadata": {},
   "outputs": [
    {
     "data": {
      "text/plain": [
       "array([0.00341667, 0.        , 0.97514048, 0.00113333, 0.        ,\n",
       "       0.001     , 0.00533333, 0.01651111, 0.02854841, 0.        ])"
      ]
     },
     "execution_count": 20,
     "metadata": {},
     "output_type": "execute_result"
    }
   ],
   "source": [
    "y_score_rf[0]"
   ]
  },
  {
   "cell_type": "code",
   "execution_count": 21,
   "metadata": {},
   "outputs": [
    {
     "data": {
      "text/plain": [
       "OneVsRestClassifier(estimator=GaussianNB(var_smoothing=1.2328467394420658e-05))"
      ]
     },
     "execution_count": 21,
     "metadata": {},
     "output_type": "execute_result"
    }
   ],
   "source": [
    "from sklearn.naive_bayes import GaussianNB\n",
    "classifier_nb = OneVsRestClassifier(GaussianNB(var_smoothing = 1.2328467394420658e-05))\n",
    "classifier_nb.fit(X_train_nb, y_train)"
   ]
  },
  {
   "cell_type": "code",
   "execution_count": 22,
   "metadata": {},
   "outputs": [],
   "source": [
    "y_score_nb =classifier_nb.predict_proba(X_test_nb)"
   ]
  },
  {
   "cell_type": "code",
   "execution_count": 23,
   "metadata": {},
   "outputs": [
    {
     "data": {
      "text/plain": [
       "array([2.82104550e-009, 4.78401114e-130, 1.00000000e+000, 4.97553752e-001,\n",
       "       4.33839532e-045, 4.74861703e-021, 0.00000000e+000, 0.00000000e+000,\n",
       "       4.44659081e-323, 0.00000000e+000])"
      ]
     },
     "execution_count": 23,
     "metadata": {},
     "output_type": "execute_result"
    }
   ],
   "source": [
    "y_score_nb[0]"
   ]
  },
  {
   "cell_type": "markdown",
   "metadata": {},
   "source": [
    "### Plot ROC Curve"
   ]
  },
  {
   "cell_type": "markdown",
   "metadata": {},
   "source": [
    "### Logistic Regression"
   ]
  },
  {
   "cell_type": "code",
   "execution_count": 24,
   "metadata": {},
   "outputs": [
    {
     "name": "stderr",
     "output_type": "stream",
     "text": [
      "<ipython-input-24-c30ffcd7dd0a>:19: DeprecationWarning: scipy.interp is deprecated and will be removed in SciPy 2.0.0, use numpy.interp instead\n",
      "  mean_tpr_lg += interp(all_fpr_lg, fpr_lg[i], tpr_lg[i])\n"
     ]
    }
   ],
   "source": [
    "# Compute ROC curve and ROC area for each class\n",
    "fpr_lg = dict()\n",
    "tpr_lg = dict()\n",
    "roc_auc_lg = dict()\n",
    "for i in range(n_classes):\n",
    "    fpr_lg[i], tpr_lg[i], _ = roc_curve(y_test[:, i], y_score_lg[:, i])\n",
    "    roc_auc_lg[i] = auc(fpr_lg[i], tpr_lg[i])\n",
    "\n",
    "# Compute micro-average ROC curve and ROC area\n",
    "fpr_lg[\"micro\"], tpr_lg[\"micro\"], _ = roc_curve(y_test.ravel(), y_score_lg.ravel())\n",
    "roc_auc_lg[\"micro\"] = auc(fpr_lg[\"micro\"], tpr_lg[\"micro\"])\n",
    "\n",
    "# First aggregate all false positive rates\n",
    "all_fpr_lg = np.unique(np.concatenate([fpr_lg[i] for i in range(n_classes)]))\n",
    "\n",
    "# Then interpolate all ROC curves at this points\n",
    "mean_tpr_lg = np.zeros_like(all_fpr_lg)\n",
    "for i in range(n_classes):\n",
    "    mean_tpr_lg += interp(all_fpr_lg, fpr_lg[i], tpr_lg[i])\n",
    "    \n",
    "# Finally average it and compute AUC\n",
    "mean_tpr_lg /= n_classes\n",
    "\n",
    "fpr_lg[\"macro\"] = all_fpr_lg\n",
    "tpr_lg[\"macro\"] = mean_tpr_lg\n",
    "roc_auc_lg[\"macro\"] = auc(fpr_lg[\"macro\"], tpr_lg[\"macro\"])"
   ]
  },
  {
   "cell_type": "markdown",
   "metadata": {},
   "source": [
    "### SVM"
   ]
  },
  {
   "cell_type": "code",
   "execution_count": 25,
   "metadata": {},
   "outputs": [
    {
     "name": "stderr",
     "output_type": "stream",
     "text": [
      "<ipython-input-25-ad721b643800>:19: DeprecationWarning: scipy.interp is deprecated and will be removed in SciPy 2.0.0, use numpy.interp instead\n",
      "  mean_tpr_svm += interp(all_fpr_svm, fpr_svm[i], tpr_svm[i])\n"
     ]
    }
   ],
   "source": [
    "# Compute ROC curve and ROC area for each class\n",
    "fpr_svm = dict()\n",
    "tpr_svm = dict()\n",
    "roc_auc_svm = dict()\n",
    "for i in range(n_classes):\n",
    "    fpr_svm[i], tpr_svm[i], _ = roc_curve(y_test[:, i], y_score_svm[:, i])\n",
    "    roc_auc_svm[i] = auc(fpr_svm[i], tpr_svm[i])\n",
    "\n",
    "# Compute micro-average ROC curve and ROC area\n",
    "fpr_svm[\"micro\"], tpr_svm[\"micro\"], _ = roc_curve(y_test.ravel(), y_score_svm.ravel())\n",
    "roc_auc_svm[\"micro\"] = auc(fpr_svm[\"micro\"], tpr_svm[\"micro\"])\n",
    "\n",
    "# First aggregate all false positive rates\n",
    "all_fpr_svm = np.unique(np.concatenate([fpr_svm[i] for i in range(n_classes)]))\n",
    "\n",
    "# Then interpolate all ROC curves at this points\n",
    "mean_tpr_svm = np.zeros_like(all_fpr_svm)\n",
    "for i in range(n_classes):\n",
    "    mean_tpr_svm += interp(all_fpr_svm, fpr_svm[i], tpr_svm[i])\n",
    "    \n",
    "# Finally average it and compute AUC\n",
    "mean_tpr_svm /= n_classes\n",
    "\n",
    "fpr_svm[\"macro\"] = all_fpr_svm\n",
    "tpr_svm[\"macro\"] = mean_tpr_svm\n",
    "roc_auc_svm[\"macro\"] = auc(fpr_svm[\"macro\"], tpr_svm[\"macro\"])"
   ]
  },
  {
   "cell_type": "markdown",
   "metadata": {},
   "source": [
    "### Random Forest"
   ]
  },
  {
   "cell_type": "code",
   "execution_count": 26,
   "metadata": {},
   "outputs": [
    {
     "name": "stderr",
     "output_type": "stream",
     "text": [
      "<ipython-input-26-0177e44de5b0>:19: DeprecationWarning: scipy.interp is deprecated and will be removed in SciPy 2.0.0, use numpy.interp instead\n",
      "  mean_tpr_rf += interp(all_fpr_rf, fpr_rf[i], tpr_rf[i])\n"
     ]
    }
   ],
   "source": [
    "# Compute ROC curve and ROC area for each class\n",
    "fpr_rf = dict()\n",
    "tpr_rf = dict()\n",
    "roc_auc_rf = dict()\n",
    "for i in range(n_classes):\n",
    "    fpr_rf[i], tpr_rf[i], _ = roc_curve(y_test[:, i], y_score_rf[:, i])\n",
    "    roc_auc_rf[i] = auc(fpr_rf[i], tpr_rf[i])\n",
    "\n",
    "# Compute micro-average ROC curve and ROC area\n",
    "fpr_rf[\"micro\"], tpr_rf[\"micro\"], _ = roc_curve(y_test.ravel(), y_score_rf.ravel())\n",
    "roc_auc_rf[\"micro\"] = auc(fpr_rf[\"micro\"], tpr_rf[\"micro\"])\n",
    "\n",
    "# First aggregate all false positive rates\n",
    "all_fpr_rf = np.unique(np.concatenate([fpr_rf[i] for i in range(n_classes)]))\n",
    "\n",
    "# Then interpolate all ROC curves at this points\n",
    "mean_tpr_rf = np.zeros_like(all_fpr_rf)\n",
    "for i in range(n_classes):\n",
    "    mean_tpr_rf += interp(all_fpr_rf, fpr_rf[i], tpr_rf[i])\n",
    "    \n",
    "# Finally average it and compute AUC\n",
    "mean_tpr_rf /= n_classes\n",
    "\n",
    "fpr_rf[\"macro\"] = all_fpr_rf\n",
    "tpr_rf[\"macro\"] = mean_tpr_rf\n",
    "roc_auc_rf[\"macro\"] = auc(fpr_rf[\"macro\"], tpr_rf[\"macro\"])\n"
   ]
  },
  {
   "cell_type": "markdown",
   "metadata": {},
   "source": [
    "### Naive Bayes"
   ]
  },
  {
   "cell_type": "code",
   "execution_count": 27,
   "metadata": {},
   "outputs": [
    {
     "name": "stderr",
     "output_type": "stream",
     "text": [
      "<ipython-input-27-c295fc8e12fb>:19: DeprecationWarning: scipy.interp is deprecated and will be removed in SciPy 2.0.0, use numpy.interp instead\n",
      "  mean_tpr_nb += interp(all_fpr_nb, fpr_nb[i], tpr_nb[i])\n"
     ]
    }
   ],
   "source": [
    "# Compute ROC curve and ROC area for each class\n",
    "fpr_nb = dict()\n",
    "tpr_nb = dict()\n",
    "roc_auc_nb = dict()\n",
    "for i in range(n_classes):\n",
    "    fpr_nb[i], tpr_nb[i], _ = roc_curve(y_test[:, i], y_score_nb[:, i])\n",
    "    roc_auc_nb[i] = auc(fpr_nb[i], tpr_nb[i])\n",
    "\n",
    "# Compute micro-average ROC curve and ROC area\n",
    "fpr_nb[\"micro\"], tpr_nb[\"micro\"], _ = roc_curve(y_test.ravel(), y_score_nb.ravel())\n",
    "roc_auc_nb[\"micro\"] = auc(fpr_nb[\"micro\"], tpr_nb[\"micro\"])\n",
    "\n",
    "# First aggregate all false positive rates\n",
    "all_fpr_nb = np.unique(np.concatenate([fpr_nb[i] for i in range(n_classes)]))\n",
    "\n",
    "# Then interpolate all ROC curves at this points\n",
    "mean_tpr_nb = np.zeros_like(all_fpr_nb)\n",
    "for i in range(n_classes):\n",
    "    mean_tpr_nb += interp(all_fpr_nb, fpr_nb[i], tpr_nb[i])\n",
    "    \n",
    "# Finally average it and compute AUC\n",
    "mean_tpr_nb /= n_classes\n",
    "\n",
    "fpr_nb[\"macro\"] = all_fpr_nb\n",
    "tpr_nb[\"macro\"] = mean_tpr_nb\n",
    "roc_auc_nb[\"macro\"] = auc(fpr_nb[\"macro\"], tpr_nb[\"macro\"])\n"
   ]
  },
  {
   "cell_type": "code",
   "execution_count": 29,
   "metadata": {},
   "outputs": [
    {
     "data": {
      "image/png": "[encoded data removed]",
      "text/plain": [
       "<Figure size 576x432 with 1 Axes>"
      ]
     },
     "metadata": {
      "needs_background": "light"
     },
     "output_type": "display_data"
    }
   ],
   "source": [
    "# Plot all ROC curves\n",
    "plt.figure(figsize=(8,6))\n",
    "#Logistic Regression\n",
    "# plt.plot(fpr_lg[\"micro\"], tpr_lg[\"micro\"],\n",
    "#          label='LG micro-average ROC curve (area = {0:0.2f})'\n",
    "#                ''.format(roc_auc_lg[\"micro\"]),\n",
    "#          color='deeppink', linewidth=2)\n",
    "\n",
    "plt.plot(fpr_lg[\"macro\"], tpr_lg[\"macro\"],\n",
    "         label='Logistic Regression macro-average ROC curve (area = {0:0.4f})'\n",
    "               ''.format(roc_auc_lg[\"macro\"]),\n",
    "         color='navy', linewidth=2)\n",
    "\n",
    "#SVM\n",
    "# plt.plot(fpr_svm[\"micro\"], tpr_svm[\"micro\"],\n",
    "#          label='SVM micro-average ROC curve (area = {0:0.2f})'\n",
    "#                ''.format(roc_auc_svm[\"micro\"]),\n",
    "#          color='aqua', linewidth=2)\n",
    "\n",
    "plt.plot(fpr_svm[\"macro\"], tpr_svm[\"macro\"],\n",
    "         label='SVM macro-average ROC curve (area = {0:0.4f})'\n",
    "               ''.format(roc_auc_svm[\"macro\"]),\n",
    "         color='darkorange', linewidth=2)\n",
    "\n",
    "#Random Forest\n",
    "# plt.plot(fpr_rf[\"micro\"], tpr_rf[\"micro\"],\n",
    "#          label='Random Forest micro-average ROC curve (area = {0:0.4f})'\n",
    "#                ''.format(roc_auc_rf[\"micro\"]),\n",
    "#          color='aqua', linewidth=2)\n",
    "\n",
    "plt.plot(fpr_rf[\"macro\"], tpr_rf[\"macro\"],\n",
    "         label='Random Forest macro-average ROC curve (area = {0:0.4f})'\n",
    "               ''.format(roc_auc_rf[\"macro\"]),\n",
    "         color='deeppink', linewidth=2)\n",
    "\n",
    "#Naive Bayes\n",
    "# plt.plot(fpr_nb[\"micro\"], tpr_nb[\"micro\"],\n",
    "#          label='Random Forest micro-average ROC curve (area = {0:0.4f})'\n",
    "#                ''.format(roc_auc_nb[\"micro\"]),\n",
    "#          color='aqua', linewidth=2)\n",
    "\n",
    "plt.plot(fpr_nb[\"macro\"], tpr_nb[\"macro\"],\n",
    "         label='Naive Bayes macro-average ROC curve (area = {0:0.4f})'\n",
    "               ''.format(roc_auc_nb[\"macro\"]),\n",
    "         color='aqua', linewidth=2)\n",
    "\n",
    "plt.plot([0, 1], [0, 1], 'k--', lw=2)\n",
    "plt.xlim([0.0, 1.0])\n",
    "plt.ylim([0.0, 1.05])\n",
    "plt.xticks(fontsize=12)\n",
    "plt.yticks(fontsize=12)\n",
    "plt.xlabel('False Positive Rate',fontsize=15)\n",
    "plt.ylabel('True Positive Rate',fontsize=15)\n",
    "plt.title('ROC Curve to multi-class',fontsize=15)\n",
    "plt.legend(loc=\"lower right\")\n",
    "plt.show()"
   ]
  },
  {
   "cell_type": "code",
   "execution_count": null,
   "metadata": {},
   "outputs": [],
   "source": []
  }
 ],
 "metadata": {
  "kernelspec": {
   "display_name": "Python 3",
   "language": "python",
   "name": "python3"
  },
  "language_info": {
   "codemirror_mode": {
    "name": "ipython",
    "version": 3
   },
   "file_extension": ".py",
   "mimetype": "text/x-python",
   "name": "python",
   "nbconvert_exporter": "python",
   "pygments_lexer": "ipython3",
   "version": "3.8.5"
  }
 },
 "nbformat": 4,
 "nbformat_minor": 4
}
